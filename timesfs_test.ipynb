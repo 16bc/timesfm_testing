{
 "cells": [
  {
   "cell_type": "code",
   "execution_count": null,
   "id": "14ac0238-b662-4a3d-b61a-fa3a64dc8a5d",
   "metadata": {},
   "outputs": [],
   "source": [
    "from pybit._v5_market import MarketHTTP\n",
    "import time\n",
    "from pprint import pprint\n",
    "import matplotlib.pyplot as plt\n",
    "import datetime\n",
    "import timesfm\n",
    "\n",
    "market = MarketHTTP(\n",
    "    testnet=False\n",
    ")"
   ]
  },
  {
   "cell_type": "code",
   "execution_count": 2,
   "id": "51c92ffc-a158-4c0a-8778-d0db909c4acc",
   "metadata": {},
   "outputs": [],
   "source": [
    "#--------------------------------------------------------------------------------------------------------"
   ]
  },
  {
   "cell_type": "code",
   "execution_count": null,
   "id": "d40ab15f-2fe1-4934-b7b0-f0945974483b",
   "metadata": {},
   "outputs": [],
   "source": [
    "tfm = timesfm.TimesFm(\n",
    "    context_len=1024,\n",
    "    horizon_len=100,\n",
    "    input_patch_len=32,\n",
    "    output_patch_len=128,\n",
    "    num_layers=20,\n",
    "    model_dims=1280,\n",
    "    backend='gpu',\n",
    ")\n",
    "tfm.load_from_checkpoint(repo_id=\"google/timesfm-1.0-200m\")"
   ]
  },
  {
   "cell_type": "code",
   "execution_count": null,
   "id": "7d19a3e9-586b-4cef-87b2-4751afd7e46f",
   "metadata": {},
   "outputs": [],
   "source": [
    "intrvl = 5\n",
    "data = []\n",
    "last_time = time.time()*1000\n",
    "for i in range(1):\n",
    "    end_time = last_time\n",
    "    start_time = end_time - (999*intrvl*60000)\n",
    "    \n",
    "    result = market.get_index_price_kline(\n",
    "        category='linear',\n",
    "        symbol='BTCUSDT',\n",
    "        interval=str(intrvl),\n",
    "        start=start_time,\n",
    "        end=end_time,\n",
    "        limit=1000\n",
    "    )\n",
    "    data.extend(result.get('result').get('list'))\n",
    "    last_time = int(start_time) - intrvl*60000\n",
    "data = data[::-1]\n",
    "    \n",
    "print(len(data))\n",
    "# print(data)\n",
    "\n",
    "# Извлекаем время и цены из данных\n",
    "times = [int(item[0]) for item in data]\n",
    "prices = [float(item[4]) for item in data]"
   ]
  },
  {
   "cell_type": "code",
   "execution_count": null,
   "id": "a815ad14-3a1c-4b00-8a33-221383fdec71",
   "metadata": {},
   "outputs": [],
   "source": [
    "#==================================================================\n",
    "shift = 33\n",
    "#==================================================================\n",
    "learn_prices = prices[:-shift] if shift else prices\n",
    "start_price = learn_prices[-1]\n",
    "learn_times = times[:-shift] if shift else times\n",
    "\n",
    "[fdata], [experimental_quantile_forecast] = tfm.forecast(\n",
    "    [learn_prices],\n",
    "    # freq=[0 for _ in range(2)],\n",
    "    # window_size=2\n",
    "    freq=[0],\n",
    ")\n",
    "print(start_price)\n",
    "# print(fdata)\n",
    "# print(learn_prices[-1])\n",
    "# print(prices[-(shift+1)])\n",
    "# print('-----------------')\n",
    "# print(times)\n",
    "# print(experimental_quantile_forecast)"
   ]
  },
  {
   "cell_type": "code",
   "execution_count": null,
   "id": "d2e7be54-8a09-4789-9ba4-d5a672072ceb",
   "metadata": {},
   "outputs": [],
   "source": [
    "times2 = [datetime.datetime.fromtimestamp(time / 1000) for time in times]\n",
    "\n",
    "point = times[-shift] if shift else times[-1]\n",
    "\n",
    "fcst_times = [t for t in range(point - 60000*intrvl, point + ((len(fdata)-1)*60000*intrvl), 60000*intrvl)]\n",
    "fcst_times = [datetime.datetime.fromtimestamp(time / 1000) for time in fcst_times]\n",
    "\n",
    "print(datetime.datetime.fromtimestamp(point/1000))"
   ]
  },
  {
   "cell_type": "code",
   "execution_count": null,
   "id": "52fa6d14-7353-4a55-a7fe-ee9ed247308a",
   "metadata": {},
   "outputs": [],
   "source": [
    "plt.figure(figsize=(13, 8))\n",
    "diffs = []\n",
    "values = {}\n",
    "for i in range(0, 10):\n",
    "    diff = abs(experimental_quantile_forecast[0][i] - start_price)\n",
    "    diffs.append(diff)\n",
    "    values[i] = []\n",
    "    for checkpoint in experimental_quantile_forecast:\n",
    "        values[i].append(checkpoint[i])\n",
    "    plt.plot(fcst_times, values[i], marker='', linestyle='dotted', linewidth=1, color='orange')\n",
    "minindex = diffs.index(min(diffs))\n",
    "min_values = values[minindex]\n",
    "\n",
    "plt.plot(fcst_times, min_values, marker='', linestyle='-', color='red')\n",
    "plt.plot(fcst_times, fdata, marker='', linestyle='--', color='green')\n",
    "plt.plot(times2[-500:], prices[-500:], marker='', linestyle='-', color='black')\n",
    "# plt.plot(times2, prices, marker='', linestyle='-', color='black')\n",
    "plt.xlabel('Time')\n",
    "plt.ylabel('Price')\n",
    "plt.title(f'BTCUSDT - {intrvl}m')\n",
    "plt.grid(True)\n",
    "plt.show()"
   ]
  },
  {
   "cell_type": "code",
   "execution_count": null,
   "id": "033b69b2-2685-49f3-b5f6-d790d5e6e806",
   "metadata": {},
   "outputs": [],
   "source": []
  }
 ],
 "metadata": {
  "kernelspec": {
   "display_name": "Python 3 (ipykernel)",
   "language": "python",
   "name": "python3"
  },
  "language_info": {
   "codemirror_mode": {
    "name": "ipython",
    "version": 3
   },
   "file_extension": ".py",
   "mimetype": "text/x-python",
   "name": "python",
   "nbconvert_exporter": "python",
   "pygments_lexer": "ipython3",
   "version": "3.10.14"
  }
 },
 "nbformat": 4,
 "nbformat_minor": 5
}
